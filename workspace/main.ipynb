{
 "cells": [
  {
   "cell_type": "code",
   "execution_count": null,
   "metadata": {},
   "outputs": [],
   "source": [
    "# Define experiment\n",
    "N = 1\n",
    "EXP_PATH = \"experiment_\" + str(N)"
   ]
  },
  {
   "cell_type": "code",
   "execution_count": null,
   "metadata": {},
   "outputs": [],
   "source": [
    "# Create config file\n",
    "!python edit_config.py --train_dir /home/workspace/data/train/ \\\n",
    "    --eval_dir /home/workspace/data/val/ \\\n",
    "    --batch_size 2 \\\n",
    "    --checkpoint /home/workspace/experiments/pretrained_model/ssd_resnet50_v1_fpn_640x640_coco17_tpu-8/checkpoint/ckpt-0 \\\n",
    "    --label_map /home/workspace/experiments/label_map.pbtxt"
   ]
  },
  {
   "cell_type": "code",
   "execution_count": null,
   "metadata": {},
   "outputs": [],
   "source": [
    "# move config file to experiment folder\n",
    "!mv pipeline_new.config /home/workspace/experiments/{EXP_PATH}/pipeline_new.config"
   ]
  },
  {
   "cell_type": "code",
   "execution_count": null,
   "metadata": {},
   "outputs": [],
   "source": [
    "# Train model\n",
    "!python experiments/model_main_tf2.py \\\n",
    "    --model_dir=experiments/{EXP_PATH}/ \\\n",
    "    --pipeline_config_path=experiments/{EXP_PATH}/pipeline_new.config"
   ]
  },
  {
   "cell_type": "code",
   "execution_count": null,
   "metadata": {},
   "outputs": [],
   "source": [
    "# Evaluate model\n",
    "!python experiments/model_main_tf2.py \\\n",
    "    --model_dir=experiments/{EXP_PATH}/ \\\n",
    "    --pipeline_config_path=experiments/{EXP_PATH}/pipeline_new.config \\\n",
    "    --checkpoint_dir=experiments/{EXP_PATH}/"
   ]
  },
  {
   "cell_type": "code",
   "execution_count": null,
   "metadata": {},
   "outputs": [],
   "source": [
    "# Open tensorboard\n",
    "!python -m tensorboard.main --logdir experiments/{EXP_PATH}/"
   ]
  },
  {
   "cell_type": "code",
   "execution_count": null,
   "metadata": {},
   "outputs": [],
   "source": [
    "# save model\n",
    "!python experiments/exporter_main_v2.py --input_type image_tensor \\\n",
    "    --pipeline_config_path experiments/{EXP_PATH}/pipeline_new.config \\\n",
    "    --trained_checkpoint_dir experiments/{EXP_PATH}/ \\\n",
    "    --output_directory experiments/{EXP_PATH}/exported/"
   ]
  },
  {
   "cell_type": "code",
   "execution_count": null,
   "metadata": {},
   "outputs": [],
   "source": [
    "# convert model to video\n",
    "!python inference_video.py --labelmap_path label_map.pbtxt \\\n",
    "    --model_path experiments/{EXP_PATH}/exported/saved_model \\\n",
    "    --tf_record_path data/test/segment-12200383401366682847_2552_140_2572_140_with_camera_labels.tfrecord \\\n",
    "    --config_path experiments/{EXP_PATH}/pipeline_new.config \\\n",
    "    --output_path {EXP_PATH}.gif\n"
   ]
  }
 ],
 "metadata": {
  "kernelspec": {
   "display_name": "Python 3.10.4 ('dev')",
   "language": "python",
   "name": "python3"
  },
  "language_info": {
   "codemirror_mode": {
    "name": "ipython",
    "version": 3
   },
   "file_extension": ".py",
   "mimetype": "text/x-python",
   "name": "python",
   "nbconvert_exporter": "python",
   "pygments_lexer": "ipython3",
   "version": "3.10.4"
  },
  "vscode": {
   "interpreter": {
    "hash": "e74039710f3605cf800ca7c360fc37a1843ba9431f9c810f09ce7f35e0833829"
   }
  }
 },
 "nbformat": 4,
 "nbformat_minor": 4
}
